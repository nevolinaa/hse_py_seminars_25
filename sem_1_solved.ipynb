{
 "cells": [
  {
   "cell_type": "markdown",
   "id": "b40113b5",
   "metadata": {},
   "source": [
    "# Программирование на Python \n",
    "\n",
    "# Семинар 1. Основные типы данных. Создание переменных. Логические операторы и условные конструкции"
   ]
  },
  {
   "cell_type": "markdown",
   "id": "3ad4b724",
   "metadata": {},
   "source": [
    "## Содержание\n",
    "1. [Создание переменных и оператор присваивания](#par1)\n",
    "2. [Изменяемые (mutable) и неизменяемые (immutable) типы данных](#par2)\n",
    "3. [Типы данных — Часть 1](#par3)\n",
    "   1. [Числа (int, float)](#par3.1)\n",
    "   2. [Строки (str)](#par3.2)\n",
    "   3. [Ввод и вывод данных - input(), print()](#par3.3) \n",
    "   4. [Логический тип (bool)](#par3.4)\n",
    "   5. [Преобразование типов](#par3.5)\n",
    "4. [Логические операторы](#par4)\n",
    "5. [Условные конструкции](#par5)\n",
    "5. [Немного об ошибках](#par6)\n",
    "6. [Разметка Markdown в Jupyter Notebook](#par7)"
   ]
  },
  {
   "cell_type": "markdown",
   "id": "11e8a315",
   "metadata": {},
   "source": [
    "## Создание переменных и оператор присваивания <a name=\"par1\"></a>\n",
    "\n",
    "в Python программы пишутся с использованием различных переменных. Задаются они следующим образом:\n",
    "\n",
    "<p style=\"text-align: center;\"><b>имя переменной = объект</b></p>\n",
    "\n",
    "`=` - оператор присваивания"
   ]
  },
  {
   "cell_type": "markdown",
   "id": "16190828",
   "metadata": {},
   "source": [
    "<center><b><font size=4>Задание №1. Ваш виртуальный питомец</font></b></center>\n",
    "\n",
    "- Создайте несколько переменных с характеристиками вашего реального или вымышленного питомца (имя, количество лет, любимое занятие и т.п.)  \n",
    "- Вспомните основные правила именования переменных. Проверьте, что ваши названия удовлетворяют всем правилам \n",
    "- Попробуйте вывести на экран значение любой вашей переменной, но с другим регистром. Что произойдет?"
   ]
  },
  {
   "cell_type": "code",
   "execution_count": 1,
   "id": "65a0effe",
   "metadata": {},
   "outputs": [],
   "source": [
    "name = 'Зефир'\n",
    "age_years = 1\n",
    "animal_type = 'Шиншилла'"
   ]
  },
  {
   "cell_type": "markdown",
   "id": "d8ea5ab2",
   "metadata": {},
   "source": [
    "**Немного про именование переменных:**\n",
    "\n",
    "- имя переменной может содержать только буквенно-цифровые символы и символы подчеркивания (A-Za-z, 0–9 и _)\n",
    "- имя переменной должно начинаться с буквы или символа подчеркивания. не может начинаться с цифры\n",
    "- в имени переменной не должно быть пробелов\n",
    "- имя не должно совпадать со служебными (зарезервированными) словами в Python \n",
    "- имена переменных чувствительны к регистру"
   ]
  },
  {
   "cell_type": "code",
   "execution_count": 2,
   "id": "4067df3e",
   "metadata": {},
   "outputs": [
    {
     "ename": "SyntaxError",
     "evalue": "invalid syntax (2543693203.py, line 2)",
     "output_type": "error",
     "traceback": [
      "\u001b[0;36m  Cell \u001b[0;32mIn[2], line 2\u001b[0;36m\u001b[0m\n\u001b[0;31m    age years = 1\u001b[0m\n\u001b[0m        ^\u001b[0m\n\u001b[0;31mSyntaxError\u001b[0m\u001b[0;31m:\u001b[0m invalid syntax\n"
     ]
    }
   ],
   "source": [
    "# Имя переменной не должно содержать пробелов\n",
    "age years = 1"
   ]
  },
  {
   "cell_type": "code",
   "execution_count": 3,
   "id": "d55ceae0",
   "metadata": {},
   "outputs": [
    {
     "ename": "SyntaxError",
     "evalue": "invalid syntax (217164573.py, line 2)",
     "output_type": "error",
     "traceback": [
      "\u001b[0;36m  Cell \u001b[0;32mIn[3], line 2\u001b[0;36m\u001b[0m\n\u001b[0;31m    1years = 1\u001b[0m\n\u001b[0m     ^\u001b[0m\n\u001b[0;31mSyntaxError\u001b[0m\u001b[0;31m:\u001b[0m invalid syntax\n"
     ]
    }
   ],
   "source": [
    "# Имя переменной не должно начинаться с цифры\n",
    "1years = 1"
   ]
  },
  {
   "cell_type": "code",
   "execution_count": 4,
   "id": "4f1ba737",
   "metadata": {},
   "outputs": [
    {
     "ename": "NameError",
     "evalue": "name 'Name' is not defined",
     "output_type": "error",
     "traceback": [
      "\u001b[0;31m---------------------------------------------------------------------------\u001b[0m",
      "\u001b[0;31mNameError\u001b[0m                                 Traceback (most recent call last)",
      "Cell \u001b[0;32mIn[4], line 2\u001b[0m\n\u001b[1;32m      1\u001b[0m \u001b[38;5;66;03m# Регистр важен: name и nAmE - это разные переменные\u001b[39;00m\n\u001b[0;32m----> 2\u001b[0m \u001b[38;5;28mprint\u001b[39m(\u001b[43mName\u001b[49m)\n",
      "\u001b[0;31mNameError\u001b[0m: name 'Name' is not defined"
     ]
    }
   ],
   "source": [
    "# Регистр важен: name и nAmE - это разные переменные\n",
    "print(Name)"
   ]
  },
  {
   "cell_type": "code",
   "execution_count": 5,
   "id": "bc653739",
   "metadata": {},
   "outputs": [
    {
     "name": "stdout",
     "output_type": "stream",
     "text": [
      "['False', 'None', 'True', '__peg_parser__', 'and', 'as', 'assert', 'async', 'await', 'break', 'class', 'continue', 'def', 'del', 'elif', 'else', 'except', 'finally', 'for', 'from', 'global', 'if', 'import', 'in', 'is', 'lambda', 'nonlocal', 'not', 'or', 'pass', 'raise', 'return', 'try', 'while', 'with', 'yield']\n"
     ]
    }
   ],
   "source": [
    "# Служебные слова обычно выделяются цветом, также их можно посмотреть следующим образом:\n",
    "\n",
    "import keyword\n",
    "print(keyword.kwlist)"
   ]
  },
  {
   "cell_type": "markdown",
   "id": "b3cdce93",
   "metadata": {},
   "source": [
    "**Очень хорошо, если ваши переменные:**\n",
    "- написаны на английском :)  \n",
    "  × `год` = 2025  \n",
    "  ✓ `year` = 2025\n",
    "  \n",
    "  \n",
    "- осмысленные:  \n",
    "  × `y` = 2025  \n",
    "  ✓ `year` = 2025\n",
    "  \n",
    "  \n",
    "- если содержат несколько слов, то написаны через нижнее подчеркивание:  \n",
    "  × `currentyear` = 2025  \n",
    "  ✓ `current_year` = 2025\n",
    "  \n",
    "  \n",
    "- и при этом не очень длинные:  \n",
    "  × `current_calendar_year_after_the_birth_of_jesus_christ` = 2025"
   ]
  },
  {
   "cell_type": "markdown",
   "id": "d8f48ba4",
   "metadata": {},
   "source": [
    "## Изменяемые (mutable) и неизменяемые (immutable) типы данных <a name=\"par2\"></a>"
   ]
  },
  {
   "cell_type": "markdown",
   "id": "b3d0059e",
   "metadata": {},
   "source": [
    "<center><b><font size=4>Задание №2. Магический эксперимент с типами данных </font></b></center>  "
   ]
  },
  {
   "cell_type": "markdown",
   "id": "9b65785a",
   "metadata": {},
   "source": [
    "**Вы — начинающий маг, который изучает магию Python. В вашем распоряжении есть три магических объекта:**\n",
    "1. Магическое **число** силы\n",
    "2. **Текст** магического заклинания \n",
    "3. Флаг, указывающий, активно ли заклинание (**True / False**)\n",
    "  \n",
    "**Создайте одну из переменных на выбор:** `magic_number`, `magic_spell` или `is_spell_active`  \n",
    "**Проведите эксперименты:**  \n",
    "  - `Создайте новую переменную`, например, new_magic_number, и присвойте ей значение magic_number\n",
    "  - `Измените старую переменную` magic_number (например, увеличьте число на 10 или добавьте инструкции в текст заклинания)\n",
    "  - `Выведите на экран обе переменные` (magic_number и new_magic_number)\n",
    "  - `Объясните результат`\n",
    "  \n",
    "  \n",
    "**По итогам экспериментов заполните табличку:**\n",
    "\n",
    "| Неизменяемые  | Изменяемые    | \n",
    "|:-------------:|:-------------:| \n",
    "| числа (`int`, `float`, `complex`) | список (`list`) | \n",
    "| строки (`str`) | словари (`dict`)      |  \n",
    "| логический тип (`bool`) |множество (`set`)       |    \n",
    "| кортеж (`tuple`) |       |   \n",
    "| неизменяемое множество (`frozenset`) |       |  "
   ]
  },
  {
   "cell_type": "code",
   "execution_count": 6,
   "id": "de8a4fe2",
   "metadata": {},
   "outputs": [],
   "source": [
    "# Создаем магические объекты\n",
    "magic_number = 10 \n",
    "magic_spell = \"Абракадабра\"\n",
    "is_spell_active = True\n",
    "\n",
    "# Создаем новые объекты\n",
    "new_magic_number = magic_number\n",
    "new_magic_spell = magic_spell\n",
    "new_is_spell_active = is_spell_active"
   ]
  },
  {
   "cell_type": "code",
   "execution_count": 7,
   "id": "3fd0e6c9",
   "metadata": {},
   "outputs": [],
   "source": [
    "# Изменяем значения\n",
    "magic_number += 5\n",
    "magic_spell += \"!\"\n",
    "is_spell_active = False"
   ]
  },
  {
   "cell_type": "code",
   "execution_count": 8,
   "id": "da5741fd",
   "metadata": {},
   "outputs": [
    {
     "name": "stdout",
     "output_type": "stream",
     "text": [
      "Исходное магическое число: 15\n",
      "Новое магическое число: 10\n",
      "\n",
      "Исходное заклинание: Абракадабра!\n",
      "Новое заклинание: Абракадабра\n",
      "\n",
      "Исходное заклинание активно? False\n",
      "Новое заклинание активно? True\n"
     ]
    }
   ],
   "source": [
    "# Выводим результаты\n",
    "print(\"Исходное магическое число:\", magic_number)\n",
    "print(\"Новое магическое число:\", new_magic_number)\n",
    "\n",
    "print(\"\\nИсходное заклинание:\", magic_spell)\n",
    "print(\"Новое заклинание:\", new_magic_spell)\n",
    "\n",
    "print(\"\\nИсходное заклинание активно?\", is_spell_active)\n",
    "print(\"Новое заклинание активно?\", new_is_spell_active)"
   ]
  },
  {
   "cell_type": "markdown",
   "id": "3d160220",
   "metadata": {},
   "source": [
    "## Типы данных - Часть 1 <a name=\"par3\"></a>\n",
    "\n",
    "Части 2 и 3 будут в следующих семинарах. В этом ноутбуке мы посмотрим на числа, строки и логический типы данных. "
   ]
  },
  {
   "cell_type": "markdown",
   "id": "80409bd7",
   "metadata": {},
   "source": [
    "### Числа <a name=\"par3.1\"></a>"
   ]
  },
  {
   "cell_type": "markdown",
   "id": "e4eba0a3",
   "metadata": {},
   "source": [
    "<center><b><font size=4>Задание №3. Космическая миссия: расчеты для полета на Марс</font></b></center>\n",
    "\n",
    "Вы — инженер космического корабля, который готовится к полету на Марс. Вам нужно рассчитать количество топлива, необходимое для полета, а также определить, как его оптимально распределить по бакам. В процессе вы будете использовать целые числа (`int`) и числа с плавающей точкой (`float`), а также основные математические операции.\n",
    "\n",
    "1. Рассчитайте общее количество топлива:\n",
    "   - Корабль потребляет 300 литров топлива в час\n",
    "   - Полёт до Марса займет 150 часов\n",
    "   - Однако перед полетом корабль уже израсходовал 5000 литров топлива на тесты\n",
    "   - **Создайте переменную `total_fuel` и запишите туда общее количество топлива, которое потребит корабль** \n",
    "\n",
    "\n",
    "2. Рассчитайте количество полных баков топлива:\n",
    "   - Каждый бак вмещает 1500 литров топлива\n",
    "   - **Создайте переменную `fuel_tanks` и запишите туда, сколько полных баков топлива требуется.** Используйте деление нацело\n",
    "   - **Сколько литров будет в последнем не заполненном полностью баке?** Используйте операцию нахождения остатка\n",
    "   \n",
    "   \n",
    "3. Рассчитайте, сколько баков потребуется, если их количество увеличится квадратично:\n",
    "   - Предположим, что количество баков увеличилось квадратично (то есть в квадрате). Например, если раньше было 2 бака, то теперь будет $2^2 = 4$ бака\n",
    "   - **Рассчитайте, сколько баков для топлива теперь доступно, если раньше их было `fuel_tanks` штук**"
   ]
  },
  {
   "cell_type": "code",
   "execution_count": 9,
   "id": "e4b44c81",
   "metadata": {},
   "outputs": [
    {
     "name": "stdout",
     "output_type": "stream",
     "text": [
      "Общее количество топлива: 50000 литров\n"
     ]
    }
   ],
   "source": [
    "# 1. Расчет общего количества топлива\n",
    "fuel_per_hour = 300\n",
    "travel_time = 150\n",
    "fuel_spent_before = 5000\n",
    "total_fuel = (fuel_per_hour * travel_time) + fuel_spent_before \n",
    "\n",
    "print(\"Общее количество топлива:\", total_fuel, \"литров\")"
   ]
  },
  {
   "cell_type": "code",
   "execution_count": 10,
   "id": "927376db",
   "metadata": {},
   "outputs": [
    {
     "name": "stdout",
     "output_type": "stream",
     "text": [
      "Количество полных баков: 33\n"
     ]
    }
   ],
   "source": [
    "# 2. Расчет количества полных баков\n",
    "tank_capacity = 1500\n",
    "full_tanks = total_fuel // tank_capacity\n",
    "\n",
    "print(\"Количество полных баков:\", full_tanks)"
   ]
  },
  {
   "cell_type": "code",
   "execution_count": 11,
   "id": "ad5d9b95",
   "metadata": {},
   "outputs": [
    {
     "name": "stdout",
     "output_type": "stream",
     "text": [
      "Остаток топлива в последнем баке: 500 литров\n"
     ]
    }
   ],
   "source": [
    "# 3. Расчет остатка топлива в последнем баке\n",
    "remaining_fuel = total_fuel % tank_capacity\n",
    "\n",
    "print(\"Остаток топлива в последнем баке:\", remaining_fuel, \"литров\")"
   ]
  },
  {
   "cell_type": "code",
   "execution_count": 12,
   "id": "4e8196f5",
   "metadata": {},
   "outputs": [
    {
     "name": "stdout",
     "output_type": "stream",
     "text": [
      "Новое количество баков: 1089\n"
     ]
    }
   ],
   "source": [
    "# 4. Расчет баков с квадратичным увеличением\n",
    "new_tanks = full_tanks ** 2\n",
    "\n",
    "print(\"Новое количество баков:\", new_tanks)"
   ]
  },
  {
   "cell_type": "markdown",
   "id": "f32d6758",
   "metadata": {},
   "source": [
    "<center><b><font size=4>Задание №4. Магия округления чисел</font></b></center>\n",
    "\n",
    "Вы — волшебник, который изучает магию чисел. Ваша задача — разобраться, как работает заклинание округления чисел с плавающей точкой в Python с помощью функции `round()` для чисел:\n",
    "- 1.5, 2.5, 3.5, 4.5\n",
    "- 1.49, 4.51, 3.525"
   ]
  },
  {
   "cell_type": "code",
   "execution_count": 13,
   "id": "9034b712",
   "metadata": {},
   "outputs": [
    {
     "name": "stdout",
     "output_type": "stream",
     "text": [
      "2\n",
      "2\n",
      "4\n",
      "4\n"
     ]
    }
   ],
   "source": [
    "print(round(1.5)) # все ок\n",
    "print(round(2.5)) # ой?\n",
    "print(round(3.5)) # все ок\n",
    "print(round(4.5)) # ой?"
   ]
  },
  {
   "cell_type": "markdown",
   "id": "e3b517fc",
   "metadata": {},
   "source": [
    "Может быть, функция всегда округляет только до четного числа?"
   ]
  },
  {
   "cell_type": "code",
   "execution_count": 14,
   "id": "fbe5484c",
   "metadata": {},
   "outputs": [
    {
     "name": "stdout",
     "output_type": "stream",
     "text": [
      "1\n",
      "5\n",
      "4\n",
      "3.52\n"
     ]
    }
   ],
   "source": [
    "print(round(1.49)) # все ок\n",
    "print(round(4.51)) # все ок\n",
    "print(round(3.525)) # все ок\n",
    "print(round(3.525,2)) # ой?"
   ]
  },
  {
   "cell_type": "markdown",
   "id": "cdfa4585",
   "metadata": {},
   "source": [
    "Так происходит округление числа до целого, которое расположено ближе всего. Но если дробная часть равна `0.5`, то функция округляет до ближайшего четного значения."
   ]
  },
  {
   "cell_type": "markdown",
   "id": "82b7d882",
   "metadata": {},
   "source": [
    "### Строки <a name=\"par3.2\"></a>"
   ]
  },
  {
   "cell_type": "markdown",
   "id": "00354f24",
   "metadata": {},
   "source": [
    "<center><b><font size=4>Задание №5. Строковый детектив</font></b></center>\n",
    "Вы — детектив, который расследует странные случаи со строками. Вам нужно исправить ошибки в коде, разобраться, что можно делать со строками, и раскрыть несколько загадок\n",
    "\n",
    "- Исправьте ошибки в коде:   \n",
    "`message = 'Детектив Шерлок Холмс расследует дело 'Собака Баскервилей' в поместье \"Бэскервиль-холл'\"`\n",
    "\n",
    "\n",
    "- Приведите 3 операции, которые можно делать со строками, с примерами\n",
    "\n",
    "\n",
    "- Разгадайте загадки. Что получим, если сложить:\n",
    "  - `'Шерлок' + 'Холмс'`\n",
    "  - `'2024' + '1'`\n",
    "  - `'Код' + 7`\n",
    "  \n",
    "  \n",
    "- Символьный шифр:\n",
    "  - Как вывести первый символ строки 'Детектив'?\n",
    "  - Как вывести последний символ строки 'Шерлок'?"
   ]
  },
  {
   "cell_type": "code",
   "execution_count": 15,
   "id": "c04c0441",
   "metadata": {},
   "outputs": [],
   "source": [
    "message = 'Детектив Шерлок Холмс расследует дело \"Собака Баскервилей\" в поместье \"Бэскервиль-холл\"'"
   ]
  },
  {
   "cell_type": "code",
   "execution_count": 16,
   "id": "f8bfd8a5",
   "metadata": {},
   "outputs": [
    {
     "name": "stdout",
     "output_type": "stream",
     "text": [
      "ШерлокХолмс\n",
      "20241\n",
      "Код1\n"
     ]
    },
    {
     "ename": "TypeError",
     "evalue": "can only concatenate str (not \"int\") to str",
     "output_type": "error",
     "traceback": [
      "\u001b[0;31m---------------------------------------------------------------------------\u001b[0m",
      "\u001b[0;31mTypeError\u001b[0m                                 Traceback (most recent call last)",
      "Cell \u001b[0;32mIn[16], line 4\u001b[0m\n\u001b[1;32m      2\u001b[0m \u001b[38;5;28mprint\u001b[39m(\u001b[38;5;124m'\u001b[39m\u001b[38;5;124m2024\u001b[39m\u001b[38;5;124m'\u001b[39m \u001b[38;5;241m+\u001b[39m \u001b[38;5;124m'\u001b[39m\u001b[38;5;124m1\u001b[39m\u001b[38;5;124m'\u001b[39m)\n\u001b[1;32m      3\u001b[0m \u001b[38;5;28mprint\u001b[39m(\u001b[38;5;124m'\u001b[39m\u001b[38;5;124mКод\u001b[39m\u001b[38;5;124m'\u001b[39m \u001b[38;5;241m+\u001b[39m \u001b[38;5;124m'\u001b[39m\u001b[38;5;124m1\u001b[39m\u001b[38;5;124m'\u001b[39m)\n\u001b[0;32m----> 4\u001b[0m \u001b[38;5;28mprint\u001b[39m(\u001b[38;5;124;43m'\u001b[39;49m\u001b[38;5;124;43m2024\u001b[39;49m\u001b[38;5;124;43m'\u001b[39;49m\u001b[43m \u001b[49m\u001b[38;5;241;43m+\u001b[39;49m\u001b[43m \u001b[49m\u001b[38;5;241;43m1\u001b[39;49m)\n",
      "\u001b[0;31mTypeError\u001b[0m: can only concatenate str (not \"int\") to str"
     ]
    }
   ],
   "source": [
    "print('Шерлок' + 'Холмс')\n",
    "print('2024' + '1')\n",
    "print('Код' + '1')\n",
    "print('2024' + 1)"
   ]
  },
  {
   "cell_type": "code",
   "execution_count": 17,
   "id": "3ca39d39",
   "metadata": {},
   "outputs": [
    {
     "name": "stdout",
     "output_type": "stream",
     "text": [
      "Д\n",
      "к\n"
     ]
    }
   ],
   "source": [
    "print('Детектив'[0])\n",
    "print('Шерлок'[-1])"
   ]
  },
  {
   "cell_type": "markdown",
   "id": "8d273eaf",
   "metadata": {},
   "source": [
    "### Ввод и вывод данных - input(), print() <a name=\"par3.3\"></a>"
   ]
  },
  {
   "cell_type": "markdown",
   "id": "6fe62167",
   "metadata": {},
   "source": [
    "<center><b><font size=4>Задание №6. Диалог с роботом</font></b></center>\n",
    "\n",
    "**Познакомьтесь с роботом**  \n",
    "  - Используйте `print()`, чтобы робот поздоровался и представился  \n",
    "  \n",
    "\n",
    "**Робот задаёт вопросы**  \n",
    "  - Используйте `input()`, чтобы спросить имя пользователя. Сохраните ответ в переменной name  \n",
    "  \n",
    "\n",
    "**Робот продолжает диалог**  \n",
    "  - Используйте `f-строку`, чтобы робот обратился к пользователю по имени и спросил, например:\n",
    "\n",
    "<blockquote>\n",
    "{name}, какой твой любимый цвет?\n",
    "</blockquote>\n",
    "\n",
    "**Робот анализирует ответы**  \n",
    "  - Используйте `print()` с параметрами `sep` и `end`, чтобы робот вывел:  \n",
    "\n",
    "<blockquote>\n",
    "Приятно познакомиться, {name}!<br>\n",
    "Твой любимый цвет — {color}.<br>\n",
    "Я тоже его люблю!\n",
    "</blockquote>\n",
    "\n",
    "**Робот - калькулятор**  \n",
    "  - Используйте `input()`, чтобы спросить у пользователя два числа\n",
    "  - Выведите результат умножения этих чисел друг на друга\n",
    "  - Для этого вспомните, какой тип данных получаем с помощью `input()` и как преобразовать его в нужный нам"
   ]
  },
  {
   "cell_type": "code",
   "execution_count": 18,
   "id": "6a701190",
   "metadata": {},
   "outputs": [
    {
     "name": "stdout",
     "output_type": "stream",
     "text": [
      "Привет, я - робот!\n"
     ]
    }
   ],
   "source": [
    "# 1. Робот знакомится\n",
    "\n",
    "print('Привет, я - робот!')"
   ]
  },
  {
   "cell_type": "code",
   "execution_count": 19,
   "id": "9efff8be",
   "metadata": {},
   "outputs": [
    {
     "name": "stdout",
     "output_type": "stream",
     "text": [
      "А как зовут тебя? Шрек\n"
     ]
    }
   ],
   "source": [
    "# 2. Робот задаёт вопросы\n",
    "\n",
    "name = input('А как зовут тебя? ')"
   ]
  },
  {
   "cell_type": "code",
   "execution_count": 20,
   "id": "36573d9b",
   "metadata": {},
   "outputs": [
    {
     "name": "stdout",
     "output_type": "stream",
     "text": [
      "Шрек, какой твой любимый цвет? Болотный\n"
     ]
    }
   ],
   "source": [
    "# 3. Робот продолжает диалог\n",
    "\n",
    "color = input(f'{name}, какой твой любимый цвет? ') "
   ]
  },
  {
   "cell_type": "code",
   "execution_count": 21,
   "id": "4fc5242c",
   "metadata": {},
   "outputs": [
    {
     "name": "stdout",
     "output_type": "stream",
     "text": [
      "Приятно познакомиться, Шрек! Твой любимый цвет — Болотный.\n",
      "Я тоже его люблю!\n"
     ]
    }
   ],
   "source": [
    "# 4. Робот анализирует ответы\n",
    "\n",
    "print(f'Приятно познакомиться, {name}', end='! ')\n",
    "print(f'Твой любимый цвет — {color}.', 'Я тоже его люблю!', sep='\\n')"
   ]
  },
  {
   "cell_type": "code",
   "execution_count": 22,
   "id": "b90a2beb",
   "metadata": {},
   "outputs": [
    {
     "name": "stdout",
     "output_type": "stream",
     "text": [
      "Введите первое число: 6\n",
      "Введите второе число: 5\n",
      "30\n"
     ]
    }
   ],
   "source": [
    "# 5. Робот - калькулятор\n",
    "\n",
    "num1 = int(input('Введите первое число: '))\n",
    "num2 = int(input('Введите второе число: '))\n",
    "\n",
    "print(num1 * num2)"
   ]
  },
  {
   "cell_type": "markdown",
   "id": "120d2678",
   "metadata": {},
   "source": [
    "### Логический тип данных (bool) <a name=\"par3.4\"></a>"
   ]
  },
  {
   "cell_type": "markdown",
   "id": "a617df38",
   "metadata": {},
   "source": [
    "Логический тип данных (`bool`) — неизменяемый тип, который имеет только два значения `True` и `False`"
   ]
  },
  {
   "cell_type": "markdown",
   "id": "e683c022",
   "metadata": {},
   "source": [
    "<center><b><font size=4>Задание №7. Космический контроль</font></b></center>\n",
    "\n",
    "Вы — оператор космической станции. Ваша задача — проверить, соответствуют ли параметры корабля заданным требованиям, используя операторы сравнения\n",
    "\n",
    "**Напишите условия проверок и выведите результаты:**\n",
    "- Корабль должен поддерживать температуру меньше 30°C\n",
    "- Уровень топлива должен быть больше или равен 5000 литров\n",
    "- Скорость корабля должна быть ровно 1000 км/ч\n",
    "- Система должна быть не отключена"
   ]
  },
  {
   "cell_type": "code",
   "execution_count": 23,
   "id": "9555cb28",
   "metadata": {},
   "outputs": [
    {
     "name": "stdout",
     "output_type": "stream",
     "text": [
      "Температура в норме? True\n"
     ]
    }
   ],
   "source": [
    "# 1. Проверка температуры\n",
    "temperature = 25.3\n",
    "temp_norm = 30.0\n",
    "print(\"Температура в норме?\", temperature < temp_norm)"
   ]
  },
  {
   "cell_type": "code",
   "execution_count": 24,
   "id": "ee5efcdb",
   "metadata": {},
   "outputs": [
    {
     "name": "stdout",
     "output_type": "stream",
     "text": [
      "Топлива достаточно? True\n"
     ]
    }
   ],
   "source": [
    "# 2. Проверка уровня топлива\n",
    "fuel_level = 5200\n",
    "fuel_norm = 5000\n",
    "print(\"Топлива достаточно?\", fuel_level >= fuel_norm)"
   ]
  },
  {
   "cell_type": "code",
   "execution_count": 25,
   "id": "5e0d0fbd",
   "metadata": {},
   "outputs": [
    {
     "name": "stdout",
     "output_type": "stream",
     "text": [
      "Скорость соответствует? True\n"
     ]
    }
   ],
   "source": [
    "# 3. Проверка скорости\n",
    "speed = 1000\n",
    "speed_norm = 1000\n",
    "print(\"Скорость соответствует?\", speed == speed_norm)"
   ]
  },
  {
   "cell_type": "code",
   "execution_count": 26,
   "id": "dc916e95",
   "metadata": {},
   "outputs": [
    {
     "name": "stdout",
     "output_type": "stream",
     "text": [
      "Система активна? True\n"
     ]
    }
   ],
   "source": [
    "# 4. Проверка состояния системы\n",
    "system_status = \"активна\"\n",
    "system_not_norm = \"отключена\"\n",
    "print(\"Система активна?\", system_status != system_not_norm)"
   ]
  },
  {
   "cell_type": "markdown",
   "id": "043d7d4c",
   "metadata": {},
   "source": [
    "<center> \n",
    "    <table>\n",
    "        <tr>\n",
    "            <th>Оператор сравнения</th>\n",
    "            <th> Интерпретация </th>\n",
    "        </tr> \n",
    "        <tr><td>&lt;</td><td> Первый операнд меньше второго </td></tr>\n",
    "        <tr><td>&gt;</td><td> Первый операнд больше второго</td></tr>\n",
    "        <tr><td>&lt;=</td><td> Меньше или равно</td></tr>\n",
    "        <tr><td>&gt;=</td><td> Больше или равно</td></tr>\n",
    "        <tr><td>==</td><td> Два операнда равны </td></tr>\n",
    "        <tr><td>!=</td><td> Два операнда не равны</td></tr>\n",
    "    </table>\n",
    "</center>"
   ]
  },
  {
   "cell_type": "markdown",
   "id": "be935cdc",
   "metadata": {},
   "source": [
    "### Преобразование типов <a name=\"par3.5\"></a>"
   ]
  },
  {
   "cell_type": "markdown",
   "id": "c139d42f",
   "metadata": {},
   "source": [
    "<center><b><font size=4>Задание №8. Преобразование типов</font></b></center>\n",
    "\n",
    "Используя созданные ранее переменные, посмотрите, что будет, если изменить их тип:\n",
    "- `is_magic_active` (булево значение) преобразуйте в целое число\n",
    "- `magic_number` (целое число) преобразуйте в число с плавающей точкой \n",
    "- `temperature` (число с плавающей точкой) преобразуйте в целое число"
   ]
  },
  {
   "cell_type": "code",
   "execution_count": 27,
   "id": "f54120ff",
   "metadata": {},
   "outputs": [
    {
     "name": "stdout",
     "output_type": "stream",
     "text": [
      "False 0\n",
      "15 15.0\n",
      "25.3 25\n"
     ]
    }
   ],
   "source": [
    "print(is_spell_active, int(is_spell_active))\n",
    "print(magic_number, float(magic_number)) \n",
    "print(temperature, int(temperature)) "
   ]
  },
  {
   "cell_type": "markdown",
   "id": "be57a4d8",
   "metadata": {},
   "source": [
    "## Логические операторы <a name=\"par4\"></a>"
   ]
  },
  {
   "cell_type": "markdown",
   "id": "a08bff51",
   "metadata": {},
   "source": [
    "<center><b><font size=4>Задание №9. Детективы идут на расследование</font></b></center>\n",
    "\n",
    "Вы — детектив, который расследует загадочное происшествие. Чтобы раскрыть дело, вам нужно проверить несколько подсказок, используя логические операторы and, or и not.\n",
    "\n",
    "**В ходе расследования дела было выяснено, что:**\n",
    "- Преступник оставил отпечатки пальцев **И** следы обуви.\n",
    "- Преступление произошло **либо** ночью, **либо** в дождь.\n",
    "- Подозреваемый **НЕ** был на месте преступления.\n",
    "\n",
    "**Создайте переменные:**\n",
    "\n",
    "- `fingerprints` = True\n",
    "- `footprints` = True\n",
    "\n",
    "\n",
    "- `is_night` = False\n",
    "- `is_rainy` = True\n",
    "\n",
    "\n",
    "- `suspect_at_scene` = False\n",
    "\n",
    "**Напишите условие, которое проверяет, является ли подозреваемый преступником**"
   ]
  },
  {
   "cell_type": "code",
   "execution_count": 28,
   "id": "11635b3d",
   "metadata": {},
   "outputs": [
    {
     "name": "stdout",
     "output_type": "stream",
     "text": [
      "Дело раскрыто? True\n"
     ]
    }
   ],
   "source": [
    "fingerprints = True\n",
    "footprints = True\n",
    "\n",
    "is_night = False\n",
    "is_rainy = True\n",
    "\n",
    "suspect_at_scene = False\n",
    "\n",
    "case_solved = (fingerprints and footprints) and (is_night or is_rainy) and (not suspect_at_scene)\n",
    "\n",
    "print(\"Дело раскрыто?\", case_solved)"
   ]
  },
  {
   "cell_type": "markdown",
   "id": "42323db1",
   "metadata": {},
   "source": [
    "## Условные конструкции <a name=\"par5\"></a>"
   ]
  },
  {
   "cell_type": "markdown",
   "id": "1793ce6e",
   "metadata": {},
   "source": [
    "<center><b><font size=4>Задание №10. Детективы и тайна пропавшего артефакта</font></b></center>\n",
    "\n",
    "Вы — детектив, расследующий кражу ценного артефакта из музея. Вам нужно проанализировать данные, применяя условные конструкции (if, elif, else), чтобы определить, кто виновен и что делать дальше.\n",
    "\n",
    "**Создайте следующие переменные:**\n",
    "- `Название пропавшего артефакта:` Золотая маска\n",
    "- `Имя подозреваемого:` Джон Смит\n",
    "- `Есть ли у подозреваемого алиби:` нет\n",
    "\n",
    "- `Время кражи в часах:` 3\n",
    "- `Работали ли камеры наблюдения:` да\n",
    "- `Количество свидетелей`: 2\n",
    "\n",
    "**Проведите анализ данных:**\n",
    "- Если камеры работали и время кражи было между 2 и 4 часами ночи, выведите:\n",
    "<blockquote>\n",
    "Подозреваемый {suspect_name} замечен на камерах в {time_of_theft} часа ночи.<br>  \n",
    "Арестовать!  \n",
    "</blockquote>\n",
    "\n",
    "\n",
    "- Если камеры не работали, но есть 2 свидетеля, выведите:\n",
    "<blockquote>\n",
    "Камеры не работали, но есть 2 свидетеля. Продолжить допрос свидетелей.\n",
    "</blockquote>\n",
    "\n",
    "\n",
    "- Если у подозреваемого есть алиби, выведите:\n",
    "<blockquote>\n",
    "У {suspect_name} есть алиби. Искать другого подозреваемого.\n",
    "</blockquote>\n",
    "\n",
    "\n",
    "- Если ни одно из условий не выполнено, выведите:\n",
    "<blockquote>\n",
    "Недостаточно данных. Продолжить расследование.\n",
    "</blockquote>"
   ]
  },
  {
   "cell_type": "code",
   "execution_count": 29,
   "id": "4d3f56fd",
   "metadata": {},
   "outputs": [
    {
     "name": "stdout",
     "output_type": "stream",
     "text": [
      "Подозреваемый Джон Смит замечен на камерах в 3 часа ночи.\n",
      "Арестовать!\n"
     ]
    }
   ],
   "source": [
    "# 1. Сбор данных\n",
    "artifact_name = \"Золотая маска\"\n",
    "suspect_name = \"Джон Смит\"\n",
    "suspect_alibi = False\n",
    "\n",
    "time_of_theft = 3\n",
    "security_cameras = True\n",
    "witnesses = 2\n",
    "\n",
    "# 2. Анализ данных\n",
    "if security_cameras and 2 <= time_of_theft <= 4:\n",
    "    print(f\"Подозреваемый {suspect_name} замечен на камерах в {time_of_theft} часа ночи.\")\n",
    "    print(\"Арестовать!\")\n",
    "elif not security_cameras and witnesses == 2:\n",
    "    print(\"Камеры не работали, но есть 2 свидетеля. Продолжить допрос свидетелей.\")\n",
    "elif suspect_alibi:\n",
    "    print(f\"У {suspect_name} есть алиби. Искать другого подозреваемого.\")\n",
    "else:\n",
    "    print(\"Недостаточно данных. Продолжить расследование.\")"
   ]
  },
  {
   "cell_type": "markdown",
   "id": "6ce43543",
   "metadata": {},
   "source": [
    "## Немного об ошибках <a name=\"par6\"></a>\n",
    "\n",
    "Здесь будут разобраны ошибки, которые чаще всего вы можете встретить. Однако, это лишь небольшая их часть. Если столкнетесь с какой-то новой ошибкой — не стесняйтесь ее загуглить :)"
   ]
  },
  {
   "cell_type": "markdown",
   "id": "8255677f",
   "metadata": {},
   "source": [
    "Помните, в прошлом задании у нас была переменная fingerprints? Попробуем ее напечатать:"
   ]
  },
  {
   "cell_type": "code",
   "execution_count": 30,
   "id": "422ccd43",
   "metadata": {},
   "outputs": [
    {
     "ename": "NameError",
     "evalue": "name 'Fingerprints' is not defined",
     "output_type": "error",
     "traceback": [
      "\u001b[0;31m---------------------------------------------------------------------------\u001b[0m",
      "\u001b[0;31mNameError\u001b[0m                                 Traceback (most recent call last)",
      "Cell \u001b[0;32mIn[30], line 1\u001b[0m\n\u001b[0;32m----> 1\u001b[0m \u001b[38;5;28mprint\u001b[39m(\u001b[43mFingerprints\u001b[49m)\n",
      "\u001b[0;31mNameError\u001b[0m: name 'Fingerprints' is not defined"
     ]
    }
   ],
   "source": [
    "print(Fingerprints)"
   ]
  },
  {
   "cell_type": "markdown",
   "id": "f148489d",
   "metadata": {},
   "source": [
    "Ой, что-то пошло не так. Данна ошибка (`NameError`) буквально говорит нам, что такой переменной нет. \n",
    "\n",
    "Но ведь была же... \n",
    "\n",
    "Тут стоит вспомнить, что названия переменных чувствительны к регистру. Мы создавали переменную `fingerprints`, а напечатать пытаемся `Fingerprints`, которой и правда нет."
   ]
  },
  {
   "cell_type": "markdown",
   "id": "b2b0da09",
   "metadata": {},
   "source": [
    "Идем дальше. Предположим, у меня есть два значения, которые я хочу сложить: "
   ]
  },
  {
   "cell_type": "code",
   "execution_count": 31,
   "id": "a89374b6",
   "metadata": {},
   "outputs": [
    {
     "ename": "TypeError",
     "evalue": "can only concatenate str (not \"int\") to str",
     "output_type": "error",
     "traceback": [
      "\u001b[0;31m---------------------------------------------------------------------------\u001b[0m",
      "\u001b[0;31mTypeError\u001b[0m                                 Traceback (most recent call last)",
      "Cell \u001b[0;32mIn[31], line 4\u001b[0m\n\u001b[1;32m      1\u001b[0m info \u001b[38;5;241m=\u001b[39m \u001b[38;5;124m\"\u001b[39m\u001b[38;5;124mВозраст подозреваемого: \u001b[39m\u001b[38;5;124m\"\u001b[39m \n\u001b[1;32m      2\u001b[0m age \u001b[38;5;241m=\u001b[39m \u001b[38;5;241m30\u001b[39m\n\u001b[0;32m----> 4\u001b[0m \u001b[38;5;28mprint\u001b[39m(\u001b[43minfo\u001b[49m\u001b[43m \u001b[49m\u001b[38;5;241;43m+\u001b[39;49m\u001b[43m \u001b[49m\u001b[43mage\u001b[49m)\n",
      "\u001b[0;31mTypeError\u001b[0m: can only concatenate str (not \"int\") to str"
     ]
    }
   ],
   "source": [
    "info = \"Возраст подозреваемого: \" \n",
    "age = 30\n",
    "\n",
    "print(info + age)"
   ]
  },
  {
   "cell_type": "markdown",
   "id": "f8663844",
   "metadata": {},
   "source": [
    "Переменная `info` — строка, а переменная `age` — это целое число. Когда мы буквально пытаемся сложить число и текст, то программа ругается и не понимает, что от нее хотят. \n",
    "\n",
    "К слову, если поменять порядок переменных, то тип ошибки (`TypeError`) не поменяется, но будет другое пояснение. Подумайте, почему так происходит."
   ]
  },
  {
   "cell_type": "code",
   "execution_count": 32,
   "id": "c1b06d8f",
   "metadata": {},
   "outputs": [
    {
     "ename": "TypeError",
     "evalue": "unsupported operand type(s) for +: 'int' and 'str'",
     "output_type": "error",
     "traceback": [
      "\u001b[0;31m---------------------------------------------------------------------------\u001b[0m",
      "\u001b[0;31mTypeError\u001b[0m                                 Traceback (most recent call last)",
      "Cell \u001b[0;32mIn[32], line 1\u001b[0m\n\u001b[0;32m----> 1\u001b[0m \u001b[38;5;28mprint\u001b[39m(\u001b[43mage\u001b[49m\u001b[43m \u001b[49m\u001b[38;5;241;43m+\u001b[39;49m\u001b[43m \u001b[49m\u001b[43minfo\u001b[49m)\n",
      "\u001b[0;31mTypeError\u001b[0m: unsupported operand type(s) for +: 'int' and 'str'"
     ]
    }
   ],
   "source": [
    "print(age + info)"
   ]
  },
  {
   "cell_type": "markdown",
   "id": "b977af85",
   "metadata": {},
   "source": [
    "И последнее на сегодня. Предположим, что у нас есть строка `'1,23'` — вроде бы десятичная дробь, но провести никакие арифметические операции мы с ней не можем. Значит, нужно попробовать эту строку преобразовать в тип `float`."
   ]
  },
  {
   "cell_type": "code",
   "execution_count": 33,
   "id": "f4cfd258",
   "metadata": {},
   "outputs": [
    {
     "ename": "ValueError",
     "evalue": "could not convert string to float: '1,23'",
     "output_type": "error",
     "traceback": [
      "\u001b[0;31m---------------------------------------------------------------------------\u001b[0m",
      "\u001b[0;31mValueError\u001b[0m                                Traceback (most recent call last)",
      "Cell \u001b[0;32mIn[33], line 1\u001b[0m\n\u001b[0;32m----> 1\u001b[0m number \u001b[38;5;241m=\u001b[39m \u001b[38;5;28;43mfloat\u001b[39;49m\u001b[43m(\u001b[49m\u001b[38;5;124;43m\"\u001b[39;49m\u001b[38;5;124;43m1,23\u001b[39;49m\u001b[38;5;124;43m\"\u001b[39;49m\u001b[43m)\u001b[49m\n",
      "\u001b[0;31mValueError\u001b[0m: could not convert string to float: '1,23'"
     ]
    }
   ],
   "source": [
    "number = float(\"1,23\")"
   ]
  },
  {
   "cell_type": "markdown",
   "id": "a27605b7",
   "metadata": {},
   "source": [
    "Ошибка `ValueError` возникает из-за запятой в строке — функция `float` не понимает, как можно запятую преобразовать в число."
   ]
  },
  {
   "cell_type": "code",
   "execution_count": 34,
   "id": "d2e1b131",
   "metadata": {},
   "outputs": [
    {
     "data": {
      "text/plain": [
       "1.23"
      ]
     },
     "execution_count": 34,
     "metadata": {},
     "output_type": "execute_result"
    }
   ],
   "source": [
    "float('1.23')"
   ]
  },
  {
   "cell_type": "markdown",
   "id": "f2ea4901",
   "metadata": {},
   "source": [
    "И теперь точно последнее. Предположим, у нас есть строка `'qwerty'` и мы хотим обратиться к последнему ее элементу — шестой букве `'y'`."
   ]
  },
  {
   "cell_type": "code",
   "execution_count": 35,
   "id": "26d1b288",
   "metadata": {},
   "outputs": [
    {
     "ename": "IndexError",
     "evalue": "string index out of range",
     "output_type": "error",
     "traceback": [
      "\u001b[0;31m---------------------------------------------------------------------------\u001b[0m",
      "\u001b[0;31mIndexError\u001b[0m                                Traceback (most recent call last)",
      "Cell \u001b[0;32mIn[35], line 1\u001b[0m\n\u001b[0;32m----> 1\u001b[0m \u001b[38;5;28mprint\u001b[39m(\u001b[38;5;124;43m'\u001b[39;49m\u001b[38;5;124;43mqwerty\u001b[39;49m\u001b[38;5;124;43m'\u001b[39;49m\u001b[43m[\u001b[49m\u001b[38;5;241;43m6\u001b[39;49m\u001b[43m]\u001b[49m)\n",
      "\u001b[0;31mIndexError\u001b[0m: string index out of range"
     ]
    }
   ],
   "source": [
    "print('qwerty'[6])"
   ]
  },
  {
   "cell_type": "markdown",
   "id": "33d29196",
   "metadata": {},
   "source": [
    "Ошибка `IndexError` показывает, что элемента с таким индексом в строке нет. Это связано с тем, что индексация в Python начинается с нуля, значит, нам здесь нужен индекс `5` (или `-1`, т.е. первый элемент с конца)."
   ]
  },
  {
   "cell_type": "code",
   "execution_count": 36,
   "id": "79c3b409",
   "metadata": {},
   "outputs": [
    {
     "name": "stdout",
     "output_type": "stream",
     "text": [
      "y\n",
      "y\n"
     ]
    }
   ],
   "source": [
    "print('qwerty'[5])\n",
    "print('qwerty'[-1])"
   ]
  },
  {
   "cell_type": "markdown",
   "id": "9b35b50f",
   "metadata": {},
   "source": [
    "## Разметка Markdown в Jupyter Notebook <a name=\"par7\"></a>\n",
    "\n",
    "В среде, в которой мы с вами работаем – в Jupyter Notebook – вы будете пользоваться в основном ячейками двух типов: **Code** и **Markdown**. В ячейке типа **Code** вы можете писать и запускать код, в ячейках **Markdown** вы можете писать и форматировать текст.\n",
    "\n",
    "Что такое **Markdown** в целом? Это язык разметки, который можно использовать для форматирования текстовых ячеек. В Jupyter Notebook вы можете использовать разные символы для форматирования:\n",
    "\n",
    "* *Звездочка чтобы выделить текст курсивом* - `*тут текст*`;\n",
    "* **Две звездочки чтобы выделить текст жирным** - `**тут текст**`;\n",
    "* Квадратные скобки и круглые скобки чтобы создать гиперссылку – `[Текст гиперссылки](ссылка)`;\n",
    "* Штрихи чтобы имитировать `код` – \\`тут текст или код\\`\n",
    "\n",
    "А также используйте:\n",
    "* `#` для выделения заголовков первого уровня: `# Заголовок первого уровня`;\n",
    "* `##` для выделения заголовков второго уровня: `## Заголовок второго уровня`;\n",
    "* `###` для выделения заголовков третьего уровня: `### Заголовок третьего уровня`;\n",
    "\n",
    "Если хотите посмотреть, как выглядит разметка в ячейке типа Markdown, дважды кликните на эту ячейку. Узнать про все возможности Markdown можно на [Datacamp](https://www.datacamp.com/tutorial/markdown-in-jupyter-notebook)."
   ]
  },
  {
   "cell_type": "markdown",
   "id": "2f794f4e",
   "metadata": {},
   "source": [
    "<center><b><font size=4>Задание №11. Отчет детектива</font></b></center>\n",
    "\n",
    "Используя ячейку типа Markdown и разметку, напечатайте в этой ячейке ниже отчет о расследовании. Он должен содержать слдующие разделы и информацию внутри них:\n",
    "\n",
    "1. Название: Отчет о расследовании\n",
    "2. Разделы: Данные о преступнике, улики, решение по делу\n",
    "4. Оформите текст на свой вкус. Используйте разные виды форматирования\n",
    "\n",
    "Напоминалка с уликами:\n",
    "- Отпечатки пальцев (не) обнаружены на месте преступления  \n",
    "- Следы обуви (не) соответствуют подозреваемому  \n",
    "- Показания свидетелей (не) подтверждают его причастность"
   ]
  },
  {
   "cell_type": "markdown",
   "id": "adc6d682",
   "metadata": {},
   "source": [
    "# Отчёт о расследовании\n",
    "\n",
    "## Данные о преступнике\n",
    "\n",
    "Подозреваемый: **Джон Смит**  \n",
    "Время преступления: *3 часа ночи*    \n",
    "\n",
    "### Улики:\n",
    "- **Отпечатки пальцев** *обнаружены* на месте преступления.  \n",
    "- **Следы обуви** *соответствуют* подозреваемому.  \n",
    "- Показания *2* **свидетелей** подтверждают его причастность.  \n",
    "\n",
    "### Решение:\n",
    "На основании анализа данных подозреваемый **арестован**.  \n",
    "\n",
    "[База данных преступников](https://www.example.com)"
   ]
  },
  {
   "cell_type": "code",
   "execution_count": null,
   "id": "9f25a641",
   "metadata": {},
   "outputs": [],
   "source": []
  }
 ],
 "metadata": {
  "kernelspec": {
   "display_name": "Python 3 (ipykernel)",
   "language": "python",
   "name": "python3"
  },
  "language_info": {
   "codemirror_mode": {
    "name": "ipython",
    "version": 3
   },
   "file_extension": ".py",
   "mimetype": "text/x-python",
   "name": "python",
   "nbconvert_exporter": "python",
   "pygments_lexer": "ipython3",
   "version": "3.9.17"
  }
 },
 "nbformat": 4,
 "nbformat_minor": 5
}
