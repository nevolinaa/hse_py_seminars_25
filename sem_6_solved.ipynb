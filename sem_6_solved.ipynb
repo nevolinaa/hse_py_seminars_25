{
 "cells": [
  {
   "cell_type": "markdown",
   "id": "8e3caa31",
   "metadata": {},
   "source": [
    "# Программирование на Python \n",
    "\n",
    "# Семинар 6. Функции"
   ]
  },
  {
   "cell_type": "markdown",
   "id": "5a38277e",
   "metadata": {},
   "source": [
    "## Содержание\n",
    "\n",
    "1. [О модулях и импорте функций](#par1)\n",
    "2. [Определение собственной функции](#par2)\n",
    "3. [Анонимная функция - lambda](#par3)"
   ]
  },
  {
   "cell_type": "markdown",
   "id": "51be36e8",
   "metadata": {},
   "source": [
    "<img src=\"images/sem_6_1.jpg\" alt=\"Введение\" width=\"350\">"
   ]
  },
  {
   "cell_type": "markdown",
   "id": "99909e31",
   "metadata": {},
   "source": [
    "## О модулях и импорте функций <a name=\"par1\"></a>\n",
    "\n",
    "В модули объединены похожие функции, переменные и инструменты  \n",
    "Например, на семинарах мы уже использовали модуль `random`, который предоставляет функции для работы со случайными числами  \n",
    "В учебнике был пример с модулем `math`, там хранится все для математических операций\n",
    "\n",
    "**Зачем нужны модули?**  \n",
    "1. **Готовые решения**: Модули содержат полезные функции, которые можно использовать в своих программах\n",
    "2. **Экономия времени**: Вам не нужно писать код заново, если он уже есть в модуле  \n",
    "3. **Удобство**: Модули помогают структурировать код и делают его более понятным  "
   ]
  },
  {
   "cell_type": "markdown",
   "id": "8004b039",
   "metadata": {},
   "source": [
    "**Как использовать модули?**  \n",
    "Чтобы использовать модуль, его нужно **импортировать**. Есть несколько способов это сделать:\n",
    "\n",
    "1. **Импорт всего модуля**:  "
   ]
  },
  {
   "cell_type": "code",
   "execution_count": 1,
   "id": "6acd04fa",
   "metadata": {},
   "outputs": [
    {
     "name": "stdout",
     "output_type": "stream",
     "text": [
      "4.0\n"
     ]
    }
   ],
   "source": [
    "import math\n",
    "\n",
    "result = math.sqrt(16)  # Квадратный корень из 16\n",
    "\n",
    "print(result)"
   ]
  },
  {
   "cell_type": "markdown",
   "id": "4426fec6",
   "metadata": {},
   "source": [
    "2. **Импорт конкретной функции**:  "
   ]
  },
  {
   "cell_type": "code",
   "execution_count": 2,
   "id": "0429daa0",
   "metadata": {},
   "outputs": [
    {
     "name": "stdout",
     "output_type": "stream",
     "text": [
      "5.0\n"
     ]
    }
   ],
   "source": [
    "from math import sqrt\n",
    "\n",
    "result = sqrt(25)  # Теперь sqrt можно использовать без math\n",
    "\n",
    "print(result)"
   ]
  },
  {
   "cell_type": "markdown",
   "id": "434a8a07",
   "metadata": {},
   "source": [
    "3. **Импорт нескольких функций**:  "
   ]
  },
  {
   "cell_type": "code",
   "execution_count": 3,
   "id": "d7f51a53",
   "metadata": {},
   "outputs": [
    {
     "name": "stdout",
     "output_type": "stream",
     "text": [
      "10.0\n",
      "3.141592653589793\n"
     ]
    }
   ],
   "source": [
    "from math import sqrt, pi\n",
    "\n",
    "result = sqrt(100)\n",
    "\n",
    "print(result)\n",
    "print(pi)"
   ]
  },
  {
   "cell_type": "markdown",
   "id": "f20216f3",
   "metadata": {},
   "source": [
    "**Также можно импортировать функцию/модуль под псевдонимом для удобства:**"
   ]
  },
  {
   "cell_type": "code",
   "execution_count": 4,
   "id": "64b90b34",
   "metadata": {},
   "outputs": [
    {
     "name": "stdout",
     "output_type": "stream",
     "text": [
      "6.0\n"
     ]
    }
   ],
   "source": [
    "import math as m\n",
    "\n",
    "result = m.sqrt(36)  # Используем псевдоним m\n",
    "\n",
    "print(result)  "
   ]
  },
  {
   "cell_type": "markdown",
   "id": "c59f15af",
   "metadata": {},
   "source": [
    "Как узнать, какие функции есть в модуле? Или как понять, какой модуль использовать?   \n",
    "\n",
    "**загуглить!**  \n",
    "\n",
    "И это нормально, вы не обязаны знать название всех модулей и всех функций в этих модулях"
   ]
  },
  {
   "cell_type": "markdown",
   "id": "75d08342",
   "metadata": {},
   "source": [
    "**А как посмотреть, что делает конкретная функция?**  \n",
    "Можно использовать help с импортированной функцией"
   ]
  },
  {
   "cell_type": "code",
   "execution_count": 5,
   "id": "941afe8c",
   "metadata": {},
   "outputs": [
    {
     "name": "stdout",
     "output_type": "stream",
     "text": [
      "Help on built-in function sqrt in module math:\n",
      "\n",
      "sqrt(x, /)\n",
      "    Return the square root of x.\n",
      "\n"
     ]
    }
   ],
   "source": [
    "import math\n",
    "help(math.sqrt)  # Покажет документацию по функции sqrt"
   ]
  },
  {
   "cell_type": "markdown",
   "id": "14884098",
   "metadata": {},
   "source": [
    "<center><b><font size=4>Задача 1: Пробуем сами импортировать модуль</font></b></center>\n",
    "\n",
    "Тут вы можете попробовать **сделать то же самое** для модуля `random` (или другого какого хотите)\n",
    "\n",
    "- импортировать модуль одним из вариантов выше (целиком, конкретную функцию одну или несколько)\n",
    "- посмотреть документацию любой функции из модуля с помощью `help`\n",
    "- использовать эту функцию"
   ]
  },
  {
   "cell_type": "code",
   "execution_count": 6,
   "id": "16546b5c",
   "metadata": {},
   "outputs": [],
   "source": [
    "# your code here ٩(◕‿◕｡)۶"
   ]
  },
  {
   "cell_type": "markdown",
   "id": "b0589082",
   "metadata": {},
   "source": [
    "**Что мы видим в итоге?**\n",
    "- у функции есть название - `sqrt`\n",
    "- мы передаем что-то функции на вход (аргументы) - `36`\n",
    "- функция нам что-то возвращает на выходе - `6.0`\n",
    "- у функции может быть документация\n",
    "\n",
    "И ничего нам не мешает написать что-то такое же"
   ]
  },
  {
   "cell_type": "markdown",
   "id": "ef173cf4",
   "metadata": {},
   "source": [
    "## Определение собственной функции <a name=\"par2\"></a>\n",
    "\n",
    "**Что такое функция?** \n",
    "\n",
    "Функция — это блок кода, который выполняет определенную задачу. Функции помогают избежать повторения кода, делают его более структурированным и удобным для использования\n",
    "\n",
    "## Синтаксис <a name=\"par2.1\"></a>\n",
    "\n",
    "```python\n",
    "def имя_функции(аргументы):\n",
    "    '''\n",
    "    аннотация: что делает ваша функция?\n",
    "    '''\n",
    "    # Тело функции\n",
    "    return результат\n",
    "```\n",
    "\n",
    "- `def`: Ключевое слово для создания функции   \n",
    "\n",
    "\n",
    "- `имя_функции`: Имя функции, которое вы придумываете. Оно должно быть описательным и соответствовать правилам именования (например, не начинаться с цифры и не дублировать встроенные функции)   \n",
    "\n",
    "\n",
    "- `аргументы`: Переменные, которые передаются в функцию. Они указываются в скобках через запятую. Если параметров нет, скобки остаются пустыми   \n",
    "\n",
    "\n",
    "- `тело функции`: Код, который выполняется при вызове функции   \n",
    "\n",
    "\n",
    "- `return`: Оператор, который возвращает результат работы функции. Если return отсутствует, функция возвращает None   "
   ]
  },
  {
   "cell_type": "markdown",
   "id": "9eb59742",
   "metadata": {},
   "source": [
    "<center><b><font size=4>Задача 2: Функция для возведения числа в степень</font></b></center>\n",
    "\n",
    "Давайте создадим функцию power, которая:\n",
    "- принимает два числа: одно, которое возводим в степень, другое - сама степень\n",
    "- возвращает результат возведения в степень"
   ]
  },
  {
   "cell_type": "code",
   "execution_count": 7,
   "id": "5aa1a9cf",
   "metadata": {},
   "outputs": [],
   "source": [
    "def power(number, degree):\n",
    "    '''\n",
    "    число number возводится в степень degree\n",
    "    '''\n",
    "    result = number ** degree\n",
    "    return result"
   ]
  },
  {
   "cell_type": "code",
   "execution_count": 8,
   "id": "73078526",
   "metadata": {},
   "outputs": [
    {
     "name": "stdout",
     "output_type": "stream",
     "text": [
      "8 25\n"
     ]
    }
   ],
   "source": [
    "# можно передать аргументы в том же порядке, в каком их ждет функция\n",
    "stepen_2_3 = power(2, 3) \n",
    "\n",
    "# можно передавать в любом порядке, если указать название_аргумента=значение\n",
    "stepen_5_2 = power(number=5,  degree=2)\n",
    "\n",
    "print(stepen_2_3, stepen_5_2)"
   ]
  },
  {
   "cell_type": "code",
   "execution_count": 9,
   "id": "601a4808",
   "metadata": {},
   "outputs": [
    {
     "name": "stdout",
     "output_type": "stream",
     "text": [
      "Help on function power in module __main__:\n",
      "\n",
      "power(number, degree)\n",
      "    число number возводится в степень degree\n",
      "\n"
     ]
    }
   ],
   "source": [
    "help(power)"
   ]
  },
  {
   "cell_type": "markdown",
   "id": "47363152",
   "metadata": {},
   "source": [
    "А давайте добавим в функцию условие на проверку того, что на вход действительно подается число. И в случае, если не число, то будем печатать ошибку:"
   ]
  },
  {
   "cell_type": "code",
   "execution_count": 10,
   "id": "41d71155",
   "metadata": {},
   "outputs": [],
   "source": [
    "def power(number, degree):\n",
    "    '''\n",
    "    число number возводится в степень degree\n",
    "    '''\n",
    "    if type(number) != int or type(degree) != int:\n",
    "        return 'Неправильный тип данных'\n",
    "    return number ** degree"
   ]
  },
  {
   "cell_type": "code",
   "execution_count": 11,
   "id": "1351c5cd",
   "metadata": {},
   "outputs": [
    {
     "name": "stdout",
     "output_type": "stream",
     "text": [
      "Неправильный тип данных\n"
     ]
    }
   ],
   "source": [
    "stepen_2_3 = power(\"2\", 3)\n",
    "print(stepen_2_3)"
   ]
  },
  {
   "cell_type": "markdown",
   "id": "584bbee5",
   "metadata": {},
   "source": [
    "А теперь давайте придумаем какое-то дефолтное значение степени, в которую будут возводиться числа:"
   ]
  },
  {
   "cell_type": "code",
   "execution_count": 12,
   "id": "b519703e",
   "metadata": {},
   "outputs": [],
   "source": [
    "def power(number, degree=3):\n",
    "    '''\n",
    "    число number возводится в степень degree\n",
    "    '''\n",
    "    if type(number) != int or type(degree) != int:\n",
    "        return 'Неправильный тип данных'\n",
    "    return number ** degree"
   ]
  },
  {
   "cell_type": "code",
   "execution_count": 13,
   "id": "e71ab893",
   "metadata": {},
   "outputs": [
    {
     "name": "stdout",
     "output_type": "stream",
     "text": [
      "8\n"
     ]
    }
   ],
   "source": [
    "stepen_2 = power(2)\n",
    "print(stepen_2)"
   ]
  },
  {
   "cell_type": "markdown",
   "id": "3178eba6",
   "metadata": {},
   "source": [
    "## Вложенные функции"
   ]
  },
  {
   "cell_type": "markdown",
   "id": "ef787ff2",
   "metadata": {},
   "source": [
    "Как и с циклами, мы можем использовать одну функцию (или несколько) внутри другой\n",
    "\n",
    "**Зачем это нужно?**  \n",
    "Использование одной функции внутри другой позволяет:\n",
    "\n",
    "- **Разделять задачи:** Каждая функция решает свою небольшую задачу, а затем результаты объединяются\n",
    "\n",
    "\n",
    "- **Упрощать код:** Вместо того чтобы писать всё в одной функции, можно разбить код на логические части\n",
    "\n",
    "\n",
    "- **Повторно использовать код:** Если одна функция уже решает какую-то задачу, её можно использовать в других функциях"
   ]
  },
  {
   "cell_type": "markdown",
   "id": "39395849",
   "metadata": {},
   "source": [
    "Допустим, нам нужно посчитать сумму чисел, возведенных в квадраты, мы можем сделать следующее:\n",
    "- написать функцию для возведения числа в квадрат\n",
    "- использовать ее в функции вычисления суммы квадратов"
   ]
  },
  {
   "cell_type": "code",
   "execution_count": 14,
   "id": "59ed351c",
   "metadata": {},
   "outputs": [
    {
     "name": "stdout",
     "output_type": "stream",
     "text": [
      "25\n"
     ]
    }
   ],
   "source": [
    "# Функция для вычисления квадрата числа\n",
    "def square(x):\n",
    "    return x ** 2\n",
    "\n",
    "# Функция для вычисления суммы квадратов\n",
    "def sum_of_squares(a, b):\n",
    "    return square(a) + square(b)  # Используем функцию square внутри sum_of_squares\n",
    "\n",
    "# Вызов функции\n",
    "result = sum_of_squares(3, 4)\n",
    "print(result)"
   ]
  },
  {
   "cell_type": "markdown",
   "id": "9f5b389a",
   "metadata": {},
   "source": [
    "<center><b><font size=4>Задача 3: B-03 </font></b></center>\n",
    "\n",
    "Дан фрагмент программы:\n",
    "```python\n",
    "[1] def is_multiple_of_three(number):\n",
    "[2]     if number % 3 == 0:\n",
    "[3]         return True\n",
    "[4]     return False\n",
    "[5]\n",
    "[6] def find_multiples(numbers):\n",
    "[7]     multiples = []\n",
    "[8]     for num in numbers.split():\n",
    "[9]         if is_multiple_of_three(int(num)):\n",
    "[10]             multiples.append(numbers)\n",
    "[11]        return multiples\n",
    "[12]\n",
    "[13] numbers_input = '2 3 5 6 9 10 12'\n",
    "[14] print(find_multiples(numbers_input))\n",
    "```\n",
    "\n",
    "Программа выше должна выводить:\n",
    "```python\n",
    "['3', '6', '9', '12']\n",
    "```\n",
    "\n",
    "Выберите <u>все причины (минимум две)<u>, по которым код не будет работать как ожидается.\n",
    "\n",
    "    \n",
    "_Важно! Номера в квадратных скобках не являются частью программы и просто обозначают порядковый номер строки._\n",
    "\n",
    "\n",
    "\n",
    "1. В строке **[11]** сделан лишний отступ перед return\n",
    "\n",
    "\n",
    "2. Функция is_multiple_of_three() определена до основной функции find_multiples()\n",
    "\n",
    "\n",
    "3. В строке **[6]** неверно выбрано имя аргумента: должно быть number\n",
    "\n",
    "\n",
    "4. В строке **[10]** в список добавляется вся строка с числами, а не одно число\n",
    "\n",
    "\n",
    "5. В строке **[4]** перед return не прописано условие"
   ]
  },
  {
   "cell_type": "markdown",
   "id": "d8fdf0e8",
   "metadata": {},
   "source": [
    "### Разбор задачи\n",
    "1. Да, ошибка. Из-за лишнего отступа сейчас в строке [11] функция завершает работу, так как наталкивается на return, а нам нужно, чтобы отработал весь цикл\n",
    "2. Это не ошибка, можно определять в любом порядке, главное, чтобы при использовании все функции были заданы\n",
    "3. Это не ошибка, аргументы разных функций не обязательно должны быть одинаково названы\n",
    "4. Да, ошибка, нужно append num\n",
    "5. Это не ошибка, можно не прописывать \"else\" и иметь в теле функции несколько return. Функция закончит работать на том return, на который первым наткнется"
   ]
  },
  {
   "cell_type": "markdown",
   "id": "d4d46f0e",
   "metadata": {},
   "source": [
    "<center><b><font size=4>Задача 4: B-03 </font></b></center>\n",
    "\n",
    "Дан фрагмент программы:\n",
    "```python\n",
    "[1] def count_digits(text):\n",
    "[2]     count = 1\n",
    "[3]     for char in text:\n",
    "[4]         if char.isdigit():\n",
    "[5]             count += 1\n",
    "[6]     print(count)\n",
    "[7]\n",
    "[8] def process_string(input_string):\n",
    "[9]     digits_count = count_digits()\n",
    "[10]    return f\"Количество цифр: {digits_count}\"\n",
    "[11]\n",
    "[12] text = 'abc123xyz45'\n",
    "[13] print(process_string(text))\n",
    "```\n",
    "\n",
    "Программа выше должна выводить:\n",
    "```python\n",
    "Количество цифр: 5\n",
    "```\n",
    "\n",
    "Выберите <u>все причины (минимум две)<u>, по которым код не будет работать как ожидается.\n",
    "\n",
    "    \n",
    "_Важно! Номера в квадратных скобках не являются частью программы и просто обозначают порядковый номер строки._\n",
    "\n",
    "\n",
    "1. В строке **[6]** вместо print должен быть return\n",
    "\n",
    "2. В строке **[9]** функции count_digits() не передан аргумент\n",
    "\n",
    "3. В строке **[4]** вместо char.isdigit() должно быть char.isnumeric()\n",
    "\n",
    "4. В строке **[10]** переменная digits_count должна быть преобразована в строку с помощью str()\n",
    "\n",
    "5. В строке **[2]** переменная count должна быть инициализирована значением 0"
   ]
  },
  {
   "cell_type": "markdown",
   "id": "1b7f0f4e",
   "metadata": {},
   "source": [
    "### Разбор задачи\n",
    "1. Да, ошибка, print() не даст передать результат работы функции (некоторое значение) в переменную digits_count\n",
    "2. Да, ошибка, без аргумента просто не заработает, так как функция ждет его на вход и он не задан по дефолту\n",
    "3. Это не ошибка, метод .isdigit() существует, а isnumeric() - нет\n",
    "4. Это не ошибка, так как используем f-строку, в нее можно вставить что угодно\n",
    "5. Да, ошибка, сейчас всегда считается на одно число больше, чем есть"
   ]
  },
  {
   "cell_type": "markdown",
   "id": "143af51d",
   "metadata": {},
   "source": [
    "<center><b><font size=4>Задача 5: B-06 </font></b></center>\n",
    "\n",
    "Библиотека ведёт учёт посещений своих читателей. Каждый читатель имеет право на 10 бесплатных посещений в месяц. Если читатель превышает этот лимит, он должен оплачивать дополнительные посещения  \n",
    "\n",
    "Напишите функцию, которая определяет, <u>какие читатели превысили лимит бесплатных посещений<u>  \n",
    "\n",
    "**ТРЕБУЕМАЯ ФУНКЦИЯ:**\n",
    "- Функция **exceeded_limit**, параметрами которой являются два списка. В первом списке содержатся имена читателей (строки). Во втором списке — соответствующее количество посещений каждого читателя за месяц (целые числа)  \n",
    "\n",
    "\n",
    "- Функция должна возвращать **список имён читателей**, которые превысили лимит в 10 посещений. Имена должны идти в том же порядке, что и в оригинальном списке. Если таких читателей нет, функция возвращает пустой список  \n",
    "\n",
    "_ВАЖНО! В этой задаче вы только определяете функцию, вызывать её и считывать значения не нужно, это произойдёт автоматически при проверке._\n",
    "    \n",
    "**Для примера:**\n",
    "\n",
    "| Ввод\t| Результат | \n",
    "|-------|-----------| \n",
    "| ['Анна', 'Борис', 'Виктор', 'Дарья'], [8, 12, 9, 15]\t| ['Борис', 'Дарья'] | \n",
    "| ['Елена', 'Игорь', 'Ксения', 'Михаил'], [10, 10, 10, 10]\t| [] | \n",
    "| ['Ольга', 'Павел', 'Роман', 'Светлана'], [5, 11, 20, 3]\t| ['Павел', 'Роман'] | "
   ]
  },
  {
   "cell_type": "code",
   "execution_count": 15,
   "id": "a998d4fe",
   "metadata": {},
   "outputs": [],
   "source": [
    "# значению из одного списка прямо соответствует значение из другого \n",
    "# Анна - 8, Борис - 12 и так далее\n",
    "# следовательно, в списках у значений из пары одинаковый индекс\n",
    "# поэтому проходимся по индексам через range(len(<тут список>))\n",
    "\n",
    "def exceeded_limit(names, visits):\n",
    "    exceeded = []\n",
    "    for i in range(len(names)):\n",
    "        if visits[i] > 10:\n",
    "            exceeded.append(names[i])\n",
    "    return exceeded"
   ]
  },
  {
   "cell_type": "markdown",
   "id": "3243cb2f",
   "metadata": {},
   "source": [
    "Проверки:"
   ]
  },
  {
   "cell_type": "code",
   "execution_count": 16,
   "id": "9b7f471e",
   "metadata": {},
   "outputs": [
    {
     "data": {
      "text/plain": [
       "True"
      ]
     },
     "execution_count": 16,
     "metadata": {},
     "output_type": "execute_result"
    }
   ],
   "source": [
    "exceeded_limit(['Анна', 'Борис', 'Виктор', 'Дарья'], [8, 12, 9, 15]) == ['Борис', 'Дарья']"
   ]
  },
  {
   "cell_type": "code",
   "execution_count": 17,
   "id": "50cf1a3a",
   "metadata": {},
   "outputs": [
    {
     "data": {
      "text/plain": [
       "True"
      ]
     },
     "execution_count": 17,
     "metadata": {},
     "output_type": "execute_result"
    }
   ],
   "source": [
    "exceeded_limit(['Елена', 'Игорь', 'Ксения', 'Михаил'], [10, 10, 10, 10]) == []"
   ]
  },
  {
   "cell_type": "code",
   "execution_count": 18,
   "id": "9cae6502",
   "metadata": {},
   "outputs": [
    {
     "data": {
      "text/plain": [
       "True"
      ]
     },
     "execution_count": 18,
     "metadata": {},
     "output_type": "execute_result"
    }
   ],
   "source": [
    "exceeded_limit(['Ольга', 'Павел', 'Роман', 'Светлана'], [5, 11, 20, 3]) == ['Павел', 'Роман']"
   ]
  },
  {
   "cell_type": "markdown",
   "id": "573253f2",
   "metadata": {},
   "source": [
    "<center><b><font size=4>Задача 6: B-06 </font></b></center>\n",
    "\n",
    "Магазин ведёт учёт продаж товаров. Каждый товар имеет свою цену, и магазин записывает, сколько единиц каждого товара было продано за день.\n",
    "\n",
    "Напишите функцию, которая вычисляет <u>общую выручку магазина за день<u>.\n",
    "\n",
    "**ТРЕБУЕМАЯ ФУНКЦИЯ:**\n",
    "- Функция **calculate_total_revenue**, параметром которой является словарь, где:\n",
    "    - Ключи — названия товаров (строки)\n",
    "    - Значения — кортежи из двух элементов: цена за единицу товара (целое число) и количество проданных единиц (целое число)\n",
    "\n",
    "- Функция должна возвращать общую выручку магазина за день (целое число)\n",
    "- Если выручка отрицательная (товар украли), функция должна возвращать 0\n",
    "\n",
    "_ВАЖНО! В этой задаче вы только определяете функцию, вызывать её и считывать значения не нужно, это произойдёт автоматически при проверке._\n",
    "    \n",
    "**Для примера:**\n",
    "\n",
    "| Ввод\t| Результат | \n",
    "|-------|-----------| \n",
    "| {'яблоки': (50, 10), 'бананы': (30, 5), 'апельсины': (40, 8)}\t| 970 | \n",
    "| {'хлеб': (20, 15), 'молоко': (60, 3), 'сыр': (200, 2)}\t| 880 | \n",
    "| {'кофе': (150, 4), 'чай': (100, 2), 'печенье': (50, 10)}\t| 1300 | \n",
    "| {'шоколад': (80, -5), 'вода': (30, 10)}\t| 0 | "
   ]
  },
  {
   "cell_type": "code",
   "execution_count": 19,
   "id": "c51d2f46",
   "metadata": {},
   "outputs": [],
   "source": [
    "def calculate_total_revenue(sales):\n",
    "    total = 0\n",
    "    \n",
    "    for price_quantity in sales.values():\n",
    "        total += price_quantity[0] * price_quantity[1]\n",
    "    \n",
    "    # Возвращаем 0, если выручка отрицательная\n",
    "    if total < 0:\n",
    "        return 0\n",
    "    \n",
    "    return total  "
   ]
  },
  {
   "cell_type": "markdown",
   "id": "065a67c6",
   "metadata": {},
   "source": [
    "Проверки:"
   ]
  },
  {
   "cell_type": "code",
   "execution_count": 20,
   "id": "cdb53944",
   "metadata": {},
   "outputs": [
    {
     "data": {
      "text/plain": [
       "True"
      ]
     },
     "execution_count": 20,
     "metadata": {},
     "output_type": "execute_result"
    }
   ],
   "source": [
    "calculate_total_revenue({'яблоки': (50, 10), 'бананы': (30, 5), 'апельсины': (40, 8)}) == 970"
   ]
  },
  {
   "cell_type": "code",
   "execution_count": 21,
   "id": "6dd5d76b",
   "metadata": {},
   "outputs": [
    {
     "data": {
      "text/plain": [
       "True"
      ]
     },
     "execution_count": 21,
     "metadata": {},
     "output_type": "execute_result"
    }
   ],
   "source": [
    "calculate_total_revenue({'хлеб': (20, 15), 'молоко': (60, 3), 'сыр': (200, 2)}) == 880"
   ]
  },
  {
   "cell_type": "code",
   "execution_count": 22,
   "id": "ade0df44",
   "metadata": {},
   "outputs": [
    {
     "data": {
      "text/plain": [
       "True"
      ]
     },
     "execution_count": 22,
     "metadata": {},
     "output_type": "execute_result"
    }
   ],
   "source": [
    "calculate_total_revenue({'кофе': (150, 4), 'чай': (100, 2), 'печенье': (50, 10)}) == 1300"
   ]
  },
  {
   "cell_type": "code",
   "execution_count": 23,
   "id": "40dda15d",
   "metadata": {},
   "outputs": [
    {
     "data": {
      "text/plain": [
       "True"
      ]
     },
     "execution_count": 23,
     "metadata": {},
     "output_type": "execute_result"
    }
   ],
   "source": [
    "calculate_total_revenue({'шоколад': (80, -5), 'вода': (30, 10)}) == 0"
   ]
  },
  {
   "cell_type": "markdown",
   "id": "4b3b9109",
   "metadata": {},
   "source": [
    "## Напоследок: анонимная функция <a name=\"par1\"></a>\n",
    "\n",
    "Лямбда-функция — это анонимная (безымянная) функция, которая может быть определена в одной строке. Она используется для создания небольших и простых функций, которые не требуют отдельного определения с помощью ключевого слова def\n",
    "\n",
    "Обычно используется, если вызывается единожды, то есть нужна нам здесь и сейчас\n",
    "\n",
    "Синтаксис:\n",
    "`(lambda аргументы: выражение)(данные)`\n",
    "\n",
    "- `lambda`: Ключевое слово для создания лямбда-функции\n",
    "\n",
    "- `аргументы`: Переменные, которые передаются в функцию (через запятую, если их несколько)\n",
    "\n",
    "- `выражение`: Код, который выполняется при вызове функции. Результат этого выражения возвращается как результат функции\n",
    "\n",
    "- `данные`: какие значения принимают аргументы лямбда-функции"
   ]
  },
  {
   "cell_type": "code",
   "execution_count": 24,
   "id": "1c907293",
   "metadata": {},
   "outputs": [
    {
     "data": {
      "text/plain": [
       "9"
      ]
     },
     "execution_count": 24,
     "metadata": {},
     "output_type": "execute_result"
    }
   ],
   "source": [
    "(lambda var1, var2, var3: (var1 + var2) * var3)(1,2,3)"
   ]
  },
  {
   "cell_type": "markdown",
   "id": "151dff2a",
   "metadata": {},
   "source": [
    "Если бы мы делали это через def:"
   ]
  },
  {
   "cell_type": "code",
   "execution_count": 25,
   "id": "7b77a7d1",
   "metadata": {},
   "outputs": [
    {
     "data": {
      "text/plain": [
       "9"
      ]
     },
     "execution_count": 25,
     "metadata": {},
     "output_type": "execute_result"
    }
   ],
   "source": [
    "def some_func(var1, var2, var3):\n",
    "    return (var1 + var2) * var3\n",
    "    \n",
    "some_func(1,2,3)"
   ]
  },
  {
   "cell_type": "markdown",
   "id": "62a6db7d",
   "metadata": {},
   "source": [
    "Можно также использовать lambda вместе с if:"
   ]
  },
  {
   "cell_type": "code",
   "execution_count": 26,
   "id": "bbdb72c7",
   "metadata": {},
   "outputs": [
    {
     "data": {
      "text/plain": [
       "4"
      ]
     },
     "execution_count": 26,
     "metadata": {},
     "output_type": "execute_result"
    }
   ],
   "source": [
    "(lambda x: x-1 if x%2!=0 else x)(5)"
   ]
  },
  {
   "cell_type": "markdown",
   "id": "0a8c1593",
   "metadata": {},
   "source": [
    "И внутри map:"
   ]
  },
  {
   "cell_type": "code",
   "execution_count": 27,
   "id": "c91baa7a",
   "metadata": {},
   "outputs": [
    {
     "data": {
      "text/plain": [
       "[6, 4, 4, 2, 2]"
      ]
     },
     "execution_count": 27,
     "metadata": {},
     "output_type": "execute_result"
    }
   ],
   "source": [
    "numbers = [6, 5, 4, 3, 2]\n",
    "\n",
    "list(map(lambda x: x-1 if x%2!=0 else x, numbers))"
   ]
  },
  {
   "cell_type": "markdown",
   "id": "57e6f99f",
   "metadata": {},
   "source": [
    "И обычные функции, задаваемые через def, тоже можно использовать внутри map!"
   ]
  },
  {
   "cell_type": "code",
   "execution_count": 28,
   "id": "c448296a",
   "metadata": {},
   "outputs": [
    {
     "data": {
      "text/plain": [
       "[37, 25, 16, 9, 3]"
      ]
     },
     "execution_count": 28,
     "metadata": {},
     "output_type": "execute_result"
    }
   ],
   "source": [
    "def number_operations(num):\n",
    "    return (num ** 2) + (num // 3) - 1 \n",
    "\n",
    "list(map(number_operations, numbers))"
   ]
  },
  {
   "cell_type": "markdown",
   "id": "5bc730b3",
   "metadata": {},
   "source": [
    "<center><b><font size=4>Задача 7: Пробуем сами написать lambda функцию</font></b></center>\n",
    "\n",
    "Тут вы можете попробовать **сделать то же самое** \n",
    "\n",
    "- написать lambda функцию и использовать ее для одного числа\n",
    "- применить lambda функцию к списку с помощью map\n",
    "- попробовать написать аналогичную классическую функцию и сделать то же самое уже с ней\n",
    "\n",
    "**Что должна делать ваша функция:**  \n",
    "Принимать число и возвращает его квадрат, если число чётное, или оставлять его без изменений, если число нечётное"
   ]
  },
  {
   "cell_type": "code",
   "execution_count": 29,
   "id": "c42493da",
   "metadata": {},
   "outputs": [],
   "source": [
    "numbers = [1, 2, 3, 4, 5]\n",
    "\n",
    "# Лямбда-функция\n",
    "(lambda x: x ** 2 if x % 2 == 0 else x)(5)\n",
    "\n",
    "# Применение лямбда-функции к списку с помощью map\n",
    "result_lambda = list(map(lambda x: x ** 2 if x % 2 == 0 else x, numbers))"
   ]
  },
  {
   "cell_type": "code",
   "execution_count": 30,
   "id": "f543dd35",
   "metadata": {},
   "outputs": [],
   "source": [
    "# Классическая функция\n",
    "def process_number(x):\n",
    "    if x % 2 == 0:\n",
    "        return x ** 2\n",
    "    return x\n",
    "\n",
    "# Применение классической функции к списку с помощью map\n",
    "result_def = list(map(process_number, numbers))"
   ]
  },
  {
   "cell_type": "code",
   "execution_count": 31,
   "id": "a3bbe8fe",
   "metadata": {},
   "outputs": [
    {
     "name": "stdout",
     "output_type": "stream",
     "text": [
      "Результат с лямбда-функцией: [1, 4, 3, 16, 5]\n",
      "Результат с классической функцией: [1, 4, 3, 16, 5]\n"
     ]
    }
   ],
   "source": [
    "print(\"Результат с лямбда-функцией:\", result_lambda)\n",
    "print(\"Результат с классической функцией:\", result_def)"
   ]
  },
  {
   "cell_type": "markdown",
   "id": "cf775e02",
   "metadata": {},
   "source": [
    "<img src=\"images/sem_6_2.jpg\" alt=\"Конец\" width=\"350\">"
   ]
  },
  {
   "cell_type": "code",
   "execution_count": null,
   "id": "94cbcb31",
   "metadata": {},
   "outputs": [],
   "source": []
  }
 ],
 "metadata": {
  "kernelspec": {
   "display_name": "Python 3 (ipykernel)",
   "language": "python",
   "name": "python3"
  },
  "language_info": {
   "codemirror_mode": {
    "name": "ipython",
    "version": 3
   },
   "file_extension": ".py",
   "mimetype": "text/x-python",
   "name": "python",
   "nbconvert_exporter": "python",
   "pygments_lexer": "ipython3",
   "version": "3.9.17"
  }
 },
 "nbformat": 4,
 "nbformat_minor": 5
}
